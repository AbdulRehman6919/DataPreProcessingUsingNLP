{
 "cells": [
  {
   "cell_type": "markdown",
   "metadata": {},
   "source": [
    "### Importing Libs"
   ]
  },
  {
   "cell_type": "code",
   "execution_count": 6,
   "metadata": {},
   "outputs": [],
   "source": [
    "import nltk \n",
    "import re\n",
    "import string"
   ]
  },
  {
   "cell_type": "markdown",
   "metadata": {},
   "source": [
    "### Removing Number from Text"
   ]
  },
  {
   "cell_type": "code",
   "execution_count": 70,
   "metadata": {},
   "outputs": [
    {
     "data": {
      "text/plain": [
       "'there might be numbers inside that text like    '"
      ]
     },
     "execution_count": 70,
     "metadata": {},
     "output_type": "execute_result"
    }
   ],
   "source": [
    "def remove_num (text):\n",
    "    result = re.sub(r'\\d+',\"\",text)\n",
    "    return result \n",
    "\n",
    "input_s  = \"there might be 5numbers inside that text like 12 2 3 \"\n",
    "remove_num(input_s)"
   ]
  },
  {
   "cell_type": "markdown",
   "metadata": {},
   "source": [
    "### Converting Numbers into words"
   ]
  },
  {
   "cell_type": "code",
   "execution_count": 8,
   "metadata": {},
   "outputs": [
    {
     "data": {
      "text/plain": [
       "'there might be six hundred and forty-five 5numbers inside that text like one two three'"
      ]
     },
     "execution_count": 8,
     "metadata": {},
     "output_type": "execute_result"
    }
   ],
   "source": [
    "import inflect \n",
    "\n",
    "q = inflect.engine()\n",
    "\n",
    "def convert_num(text):\n",
    "    \n",
    "    #split string into list of texts \n",
    "    temp_string = text.split()\n",
    "    \n",
    "    #intialize list \n",
    "    new_str = []\n",
    "    \n",
    "    for word in temp_string:\n",
    "        if word.isdigit():\n",
    "            temp = q.number_to_words(word)\n",
    "            new_str.append(temp)\n",
    "            \n",
    "        else:\n",
    "            new_str.append(word)\n",
    "            \n",
    "    return ' '.join(new_str)\n",
    "\n",
    "input_s  = \"there might be 645 5numbers inside that text like 1 2 3 \"\n",
    "convert_num(input_s)"
   ]
  },
  {
   "cell_type": "markdown",
   "metadata": {},
   "source": [
    "### Remove Punctuation\n",
    "\n",
    "if we have comma, question mark, exclaimation marks that all will be removed by this process\n",
    "\n",
    "#### Note: \n",
    "you can even remove numbers, asci values whatever you want"
   ]
  },
  {
   "cell_type": "code",
   "execution_count": 13,
   "metadata": {},
   "outputs": [
    {
     "data": {
      "text/plain": [
       "'Hey Are you exicted After a week we will be in Pakistan for sure'"
      ]
     },
     "execution_count": 13,
     "metadata": {},
     "output_type": "execute_result"
    }
   ],
   "source": [
    "def rem_punctuation(text):\n",
    "    translator = str.maketrans('','',string.punctuation )\n",
    "    return text.translate(translator)\n",
    "\n",
    "input_str = \"Hey, Are you exicted?? After a week, we will be in Pakistan for sure!!!\"\n",
    "rem_punctuation(input_str)"
   ]
  },
  {
   "cell_type": "markdown",
   "metadata": {},
   "source": [
    "### Remove Stopwords\n",
    "\n",
    "Stopwords are those words that donot contrbute to the meaning of a sentense. Hence, they can be safely removed without causing change in the meaning of sentense. The NLTK (Natural Langugae tool kit) libarary has the set of stopwords and we can use these to remove stopwords from our text and return a list of word tokens.\n",
    "\n",
    "#### For example:\n",
    "\n",
    "In Language translation we didnot remove the stopwords as they have importance over there while in the sentiment analysis you can simple remove them beacuse they have usually no impact on sentiments."
   ]
  },
  {
   "cell_type": "code",
   "execution_count": 31,
   "metadata": {},
   "outputs": [
    {
     "name": "stderr",
     "output_type": "stream",
     "text": [
      "[nltk_data] Downloading package stopwords to\n",
      "[nltk_data]     C:\\Users\\AbdulRehman\\AppData\\Roaming\\nltk_data...\n",
      "[nltk_data]   Package stopwords is already up-to-date!\n",
      "[nltk_data] Downloading package punkt to\n",
      "[nltk_data]     C:\\Users\\AbdulRehman\\AppData\\Roaming\\nltk_data...\n",
      "[nltk_data]   Package punkt is already up-to-date!\n"
     ]
    },
    {
     "data": {
      "text/plain": [
       "['Data', 'new', 'AI', 'world', '.', 'A.I', 'besy', 'invention', 'far', '...']"
      ]
     },
     "execution_count": 31,
     "metadata": {},
     "output_type": "execute_result"
    }
   ],
   "source": [
    "#corpus is the dataset \n",
    "from nltk.corpus import stopwords\n",
    "from nltk.tokenize import word_tokenize\n",
    "\n",
    "nltk.download('stopwords')\n",
    "nltk.download('punkt')\n",
    "\n",
    "\n",
    "#remove stopwords (stopwprds are specific to langugae wise, different for different languagaes )\n",
    "\n",
    "def rem_stopwprds(text):\n",
    "    stop_words = set(stopwords.words('english'))\n",
    "    #there is words tokenization, sentense tokenization, in words we are splitting words into list\n",
    "    word_tokens = word_tokenize(text)\n",
    "    filtered_text = [word for word in word_tokens if word not in stop_words]\n",
    "    return filtered_text\n",
    "\n",
    "text_sample = \"Data is new to AI world. A.I is the besy invention so far...\"\n",
    "rem_stopwprds(text_sample)"
   ]
  },
  {
   "cell_type": "markdown",
   "metadata": {},
   "source": [
    "### Stemming\n",
    "\n",
    "The Stemming is kind of process where it will be able to convert word into it's base word. In some of  the problems same word is used in different form of verb so in order to prevent model from confusion we use stemming process that is converting into it's base word.\n",
    "\n",
    "#### For Example:\n",
    "\n",
    "Mangoes -> Mango \n",
    "Boys    -> Boy\n",
    "going   -> go \n",
    "\n",
    "#### Note:\n",
    "\n",
    "if sentenses are not in form of tokens we first convert them into  tokens, After converting them into tokens then we can convert them into their root form if applicable.\n",
    "\n",
    "There are three type of stemmer:\n",
    "\n",
    "1) Porter Stemmer \n",
    "\n",
    "2) Snowball Stemmer \n",
    "\n",
    "3) Lancaster Stemmer"
   ]
  },
  {
   "cell_type": "code",
   "execution_count": 40,
   "metadata": {},
   "outputs": [
    {
     "data": {
      "text/plain": [
       "\"data is the most import aspect in the field of artfici intellig . It can be either in form imag , video or audio 's .\""
      ]
     },
     "execution_count": 40,
     "metadata": {},
     "output_type": "execute_result"
    }
   ],
   "source": [
    "#Port Stemmer\n",
    "from nltk.stem.porter import PorterStemmer\n",
    "from nltk.tokenize import word_tokenize\n",
    "stem1 = PorterStemmer()\n",
    "\n",
    "def stem_words(text):\n",
    "    word_tokens = word_tokenize(text)\n",
    "    stems = [stem1.stem(word) for word in word_tokens]\n",
    "    return stems\n",
    "\n",
    "text = \"Data is the most import aspect in the field of Artficial Intelligence. It can be either in form  Images, Videos or Audio's.\"\n",
    "\" \".join(stem_words(text))"
   ]
  },
  {
   "cell_type": "code",
   "execution_count": 44,
   "metadata": {},
   "outputs": [
    {
     "data": {
      "text/plain": [
       "\"dat is the most import aspect in the field of artf intellig . it can be eith in form im , video or audio 's .\""
      ]
     },
     "execution_count": 44,
     "metadata": {},
     "output_type": "execute_result"
    }
   ],
   "source": [
    "#Lancaster Stemmer\n",
    "\n",
    "from nltk.stem.lancaster import LancasterStemmer\n",
    "from nltk.tokenize import word_tokenize\n",
    "stem1 = LancasterStemmer()\n",
    "\n",
    "def stem_words(text):\n",
    "    word_tokens = word_tokenize(text)\n",
    "    stems = [stem1.stem(word) for word in word_tokens]\n",
    "    return stems\n",
    "\n",
    "text = \"Data is the most import aspect in the field of Artficial Intelligence. It can be either in form  Images, Videos or Audio's.\"\n",
    "\" \".join(stem_words(text))"
   ]
  },
  {
   "cell_type": "markdown",
   "metadata": {},
   "source": [
    "### Lemmatization\n",
    "\n",
    "The process of converting word into its nearest possible word which can have similar kind of meaning. sometimes it work like stemming. One more thing in Lemmatization is that it ensures that root word belongs to languagae.It can also find the synonums. Moreover, we can do can do lemmatization for specific things in parts of speech like over here we only did for verb."
   ]
  },
  {
   "cell_type": "code",
   "execution_count": 52,
   "metadata": {},
   "outputs": [
    {
     "name": "stderr",
     "output_type": "stream",
     "text": [
      "[nltk_data] Downloading package wordnet to\n",
      "[nltk_data]     C:\\Users\\AbdulRehman\\AppData\\Roaming\\nltk_data...\n",
      "[nltk_data]   Package wordnet is already up-to-date!\n"
     ]
    },
    {
     "data": {
      "text/plain": [
       "\"Data be the most import aspect in the field of Artficial Intelligence . It can be either in form Images , Videos or Audio 's .\""
      ]
     },
     "execution_count": 52,
     "metadata": {},
     "output_type": "execute_result"
    }
   ],
   "source": [
    "from nltk.stem import wordnet\n",
    "from nltk.tokenize import word_tokenize\n",
    "\n",
    "lemma  = wordnet.WordNetLemmatizer()\n",
    "#dictionary of synonums words for mapping\n",
    "nltk.download('wordnet')\n",
    "\n",
    "# Lemmatize String\n",
    "\n",
    "def lemmatize_word(text):\n",
    "    word_tokens = word_tokenize(text)\n",
    "    lemmas = [lemma.lemmatize(word ,pos='v') for word in word_tokens]\n",
    "    return lemmas\n",
    "\n",
    "text = \"Data is the most import aspect in the field of Artficial Intelligence. It can be either in form  Images, Videos or Audio's.\"\n",
    "\" \".join(lemmatize_word(text))"
   ]
  },
  {
   "cell_type": "markdown",
   "metadata": {},
   "source": [
    "### POS Tagging\n",
    "\n",
    "Assining tags to each word in a setense\n",
    "\n",
    "\n",
    "Just search for POS nltk tags on google"
   ]
  },
  {
   "cell_type": "code",
   "execution_count": 57,
   "metadata": {},
   "outputs": [
    {
     "name": "stderr",
     "output_type": "stream",
     "text": [
      "[nltk_data] Downloading package averaged_perceptron_tagger to\n",
      "[nltk_data]     C:\\Users\\AbdulRehman\\AppData\\Roaming\\nltk_data...\n",
      "[nltk_data]   Package averaged_perceptron_tagger is already up-to-\n",
      "[nltk_data]       date!\n"
     ]
    },
    {
     "data": {
      "text/plain": [
       "[('Are', 'NNP'),\n",
       " ('you', 'PRP'),\n",
       " ('afraid', 'IN'),\n",
       " ('of', 'IN'),\n",
       " ('being', 'VBG'),\n",
       " ('punished', 'VBN'),\n",
       " ('?', '.')]"
      ]
     },
     "execution_count": 57,
     "metadata": {},
     "output_type": "execute_result"
    }
   ],
   "source": [
    "from nltk.tokenize import word_tokenize\n",
    "from nltk import pos_tag\n",
    "nltk.download('averaged_perceptron_tagger')\n",
    "\n",
    "#convert text into words with their tags \n",
    "def pos_tagg(text):\n",
    "    word_tokens = word_tokenize(text)\n",
    "    return pos_tag(word_tokens)\n",
    "\n",
    "\n",
    "pos_tagg(\"Are you afraid of being punished?\")\n"
   ]
  },
  {
   "cell_type": "code",
   "execution_count": 63,
   "metadata": {},
   "outputs": [
    {
     "name": "stdout",
     "output_type": "stream",
     "text": [
      "PRP: pronoun, personal\n",
      "    hers herself him himself hisself it itself me myself one oneself ours\n",
      "    ourselves ownself self she thee theirs them themselves they thou thy us\n",
      "NNP: noun, proper, singular\n",
      "    Motown Venneboerger Czestochwa Ranzer Conchita Trumplane Christos\n",
      "    Oceanside Escobar Kreisler Sawyer Cougar Yvette Ervin ODI Darryl CTCA\n",
      "    Shannon A.K.C. Meltex Liverpool ...\n",
      "IN: preposition or conjunction, subordinating\n",
      "    astride among uppon whether out inside pro despite on by throughout\n",
      "    below within for towards near behind atop around if like until below\n",
      "    next into if beside ...\n",
      "VBG: verb, present participle or gerund\n",
      "    telegraphing stirring focusing angering judging stalling lactating\n",
      "    hankerin' alleging veering capping approaching traveling besieging\n",
      "    encrypting interrupting erasing wincing ...\n"
     ]
    },
    {
     "name": "stderr",
     "output_type": "stream",
     "text": [
      "[nltk_data] Downloading package tagsets to\n",
      "[nltk_data]     C:\\Users\\AbdulRehman\\AppData\\Roaming\\nltk_data...\n",
      "[nltk_data]   Package tagsets is already up-to-date!\n"
     ]
    }
   ],
   "source": [
    "# We can get that tags meanining here by downloading Penn Treebank tagset \n",
    "nltk.download('tagsets')\n",
    "\n",
    "nltk.help.upenn_tagset('PRP')\n",
    "nltk.help.upenn_tagset('NNP')\n",
    "nltk.help.upenn_tagset('IN')\n",
    "nltk.help.upenn_tagset('VBG')"
   ]
  },
  {
   "cell_type": "markdown",
   "metadata": {},
   "source": [
    "### Chunking\n",
    "\n",
    "The process of extracting the phrases from unstructred text and give them structure. we also called them shallow parsing. we can do it on top of pos tagging. It group words into chunks for noun pharses. It usually performed with the help of regex."
   ]
  },
  {
   "cell_type": "code",
   "execution_count": 71,
   "metadata": {},
   "outputs": [
    {
     "name": "stdout",
     "output_type": "stream",
     "text": [
      "(S\n",
      "  (NP the/DT little/JJ boy/NN)\n",
      "  is/VBZ\n",
      "  playing/VBG\n",
      "  in/IN\n",
      "  (NP the/DT park/NN))\n",
      "(NP the/DT little/JJ boy/NN)\n",
      "(NP the/DT park/NN)\n"
     ]
    }
   ],
   "source": [
    "from nltk.tokenize  import word_tokenize\n",
    "from nltk import pos_tag\n",
    "\n",
    "def chunking(text,grammer):\n",
    "    word_tokens = word_tokenize(text)\n",
    "    \n",
    "    #Labelling words with tokenize\n",
    "    word_pos = pos_tag(word_tokens)\n",
    "    \n",
    "    #creating a chunk parser using grammer \n",
    "    chunkParser  = nltk.RegexpParser(grammer)\n",
    "    \n",
    "    #test it on the list of word tokens with tagges pos \n",
    "    tree = chunkParser.parse(word_pos)\n",
    "    \n",
    "    for subtree in tree.subtrees():\n",
    "        print(subtree)\n",
    "    \n",
    "    tree.draw()\n",
    "senetence = 'the little boy is playing in the park' \n",
    "grammer = \"NP: {<DT>?<JJ>*<NN>}\"\n",
    "chunking(senetence,grammer)"
   ]
  },
  {
   "cell_type": "markdown",
   "metadata": {},
   "source": [
    "### Name Entity Recognition \n",
    "\n",
    "        "
   ]
  },
  {
   "cell_type": "code",
   "execution_count": 69,
   "metadata": {},
   "outputs": [
    {
     "name": "stdout",
     "output_type": "stream",
     "text": [
      "(S\n",
      "  (PERSON Yasir/NNP)\n",
      "  (PERSON Shah/NNP)\n",
      "  score/VBD\n",
      "  highest/JJS\n",
      "  400/CD\n",
      "  runs/NNS\n",
      "  in/IN\n",
      "  test/NN\n",
      "  match/NN\n",
      "  which/WDT\n",
      "  played/VBD\n",
      "  between/IN\n",
      "  (GPE Pakistan/NNP)\n",
      "  and/CC\n",
      "  (ORGANIZATION WestIndies/NNS))\n"
     ]
    },
    {
     "name": "stderr",
     "output_type": "stream",
     "text": [
      "[nltk_data] Downloading package maxent_ne_chunker to\n",
      "[nltk_data]     C:\\Users\\AbdulRehman\\AppData\\Roaming\\nltk_data...\n",
      "[nltk_data]   Package maxent_ne_chunker is already up-to-date!\n",
      "[nltk_data] Downloading package words to\n",
      "[nltk_data]     C:\\Users\\AbdulRehman\\AppData\\Roaming\\nltk_data...\n",
      "[nltk_data]   Package words is already up-to-date!\n"
     ]
    }
   ],
   "source": [
    "from nltk.tokenize import word_tokenize\n",
    "from nltk import pos_tag, ne_chunk \n",
    "nltk.download('maxent_ne_chunker')\n",
    "nltk.download('words')\n",
    "\n",
    "def ner(text):\n",
    "    \n",
    "    #tokenize the text\n",
    "    word_tokens = word_tokenize(text)\n",
    "    \n",
    "    #pos tagging of words \n",
    "    word_pos = pos_tag(word_tokens)\n",
    "    \n",
    "    #tree of word entities\n",
    "    print(ne_chunk(word_pos))\n",
    "\n",
    "text = 'Yasir Shah score highest 400 runs in test match which played between Pakistan and WestIndies'\n",
    "ner(text)\n",
    "\n",
    "#Here these libs fails where the libs predcting the westindies country as an organization and many more cases happens even with capitalizing."
   ]
  },
  {
   "cell_type": "markdown",
   "metadata": {},
   "source": [
    "###  Regex\n",
    "\n",
    "Formatting the data in our desire format\n",
    "\n",
    "\n",
    "> ^ Start of the string\n",
    "\n",
    "> w+ is used to match the alpha numeric characters in the string  and underscore too. we have use this expression wiht the \"\\\\\" slash\n"
   ]
  },
  {
   "cell_type": "code",
   "execution_count": 82,
   "metadata": {},
   "outputs": [
    {
     "data": {
      "text/plain": [
       "'Coummity'"
      ]
     },
     "execution_count": 82,
     "metadata": {},
     "output_type": "execute_result"
    }
   ],
   "source": [
    "import re \n",
    "\n",
    "\n",
    "#Getting only alpha numerice characters\n",
    "\n",
    "def find_alphanumeric(text):\n",
    "    data = re.findall(r'^\\w+',text)\n",
    "    return \" \".join(data)\n",
    "\n",
    "sample_text = \"Coummity_23 helps people to grow like fast13\"\n",
    "find_alphanumeric(sample_text)\n",
    "\n",
    "# Here only the first word is coming beacuse we have a check that if the string starts with alphanumeric character or starts \n",
    "# with underscore then diaplay that work only.\n"
   ]
  },
  {
   "cell_type": "markdown",
   "metadata": {},
   "source": [
    "### Regex Online Websites\n",
    " \n",
    "> https://regex101.com/\n",
    "\n",
    "> https://regexr.com/"
   ]
  },
  {
   "cell_type": "code",
   "execution_count": 85,
   "metadata": {},
   "outputs": [
    {
     "data": {
      "text/plain": [
       "['Some', 'String', 'comes', 'here']"
      ]
     },
     "execution_count": 85,
     "metadata": {},
     "output_type": "execute_result"
    }
   ],
   "source": [
    "#Splitting the dataset based on space (Make sure youo must use \\ before s to split the string )\n",
    "\n",
    "import re \n",
    "\n",
    "re.split(r\"\\s\",\"Some String comes here\")"
   ]
  },
  {
   "cell_type": "markdown",
   "metadata": {},
   "source": [
    "### Regex Important Methods\n",
    "\n",
    "1. re.match()\n",
    "2. re.find()\n",
    "3. re.search()\n",
    "4. re.groups()"
   ]
  },
  {
   "cell_type": "code",
   "execution_count": 91,
   "metadata": {},
   "outputs": [
    {
     "name": "stdout",
     "output_type": "stream",
     "text": [
      "('icecreams', 'ice', 'ice')\n"
     ]
    }
   ],
   "source": [
    "import re \n",
    "\n",
    "# here the regular expressions states that check if the string had i in the first and then rest of the charcters are alphanumeric\n",
    "# if yes then check \\W(that means all the charcters that are not in \\w) like space, exclamaition mark if they comes then check \n",
    "# the third group, if all ok then print that string\n",
    "\n",
    "lists= ['icecreams ice','mangoes','banana']\n",
    "\n",
    "for i in lists:\n",
    "    q = re.match(\"(i\\w+)\\W((i\\w+))\",i)\n",
    "    if q :\n",
    "        print(q.groups())"
   ]
  },
  {
   "cell_type": "code",
   "execution_count": 98,
   "metadata": {},
   "outputs": [
    {
     "data": {
      "text/plain": [
       "['some-email123.@gmail.com', 'emailali@gmail.com', 'hotmail1234@hotmail.ai']"
      ]
     },
     "execution_count": 98,
     "metadata": {},
     "output_type": "execute_result"
    }
   ],
   "source": [
    "import re \n",
    "\n",
    "#This regular expression is weak one if there comes some text that contains @ sign so it will be going to fail so for that you can use specific gmail or hotmail \n",
    "emails = \"some-email123.@gmail.com,emailali@gmail.com,hotmail1234@hotmail.ai,abdul rehman\"\n",
    "\n",
    "re.findall(r\"[\\w\\.-]+@[\\w\\.-]+\",emails)"
   ]
  },
  {
   "cell_type": "markdown",
   "metadata": {},
   "source": [
    "### Text Normalization\n",
    "\n",
    "Whenever we have kind of noisy text like 2morrow(tomarrow),2mrrw(tommorrow),tomrw(tomarrow),b4(before),otw(on the way),:)(smile) you can use text normalized from the raw text. This is the part of data preprocessing when you have to deal with the nlp problem.\n",
    "\n",
    "Text normalization is too useful for noisy text such as social media comments, comment, blos posts, abbreviations, missed spellings. Text normalization is also useful for topic extraction where near synonyms and spelling differences are common like e.g. ('topic modelling','topic modeling','topic-modelling')\n",
    "\n",
    "Some of the common approches to text normalization includes dictionary mappings, statistical machine translation(SMT),\n",
    "and spelling correction based appraoches.\n"
   ]
  },
  {
   "cell_type": "markdown",
   "metadata": {},
   "source": [
    "### Word Count"
   ]
  },
  {
   "cell_type": "code",
   "execution_count": 103,
   "metadata": {},
   "outputs": [
    {
     "name": "stdout",
     "output_type": "stream",
     "text": [
      "9\n"
     ]
    }
   ],
   "source": [
    "from nltk.tokenize.regexp import WhitespaceTokenizer\n",
    "text = \"There are some string that comes into the picture\"\n",
    "tokens = WhitespaceTokenizer().tokenize(text)\n",
    "print(len(tokens))\n"
   ]
  },
  {
   "cell_type": "markdown",
   "metadata": {},
   "source": [
    "### WorkPunctuation Tokenizer"
   ]
  },
  {
   "cell_type": "code",
   "execution_count": 105,
   "metadata": {},
   "outputs": [
    {
     "name": "stdout",
     "output_type": "stream",
     "text": [
      "19\n"
     ]
    }
   ],
   "source": [
    "from nltk.tokenize.regexp import WordPunctTokenizer\n",
    "text = \"There is no need to panic, We need to work together, take small yet imprtant measures.\"\n",
    "tokens = WordPunctTokenizer().tokenize(text)\n",
    "print(len(tokens))"
   ]
  },
  {
   "cell_type": "code",
   "execution_count": 107,
   "metadata": {},
   "outputs": [
    {
     "data": {
      "text/plain": [
       "['There',\n",
       " 'is',\n",
       " 'no',\n",
       " 'need',\n",
       " 'to',\n",
       " 'panic',\n",
       " ',',\n",
       " 'We',\n",
       " 'need',\n",
       " 'to',\n",
       " 'work',\n",
       " 'together',\n",
       " ',',\n",
       " 'take',\n",
       " 'small',\n",
       " 'yet',\n",
       " 'imprtant',\n",
       " 'measures',\n",
       " '.']"
      ]
     },
     "execution_count": 107,
     "metadata": {},
     "output_type": "execute_result"
    }
   ],
   "source": [
    "#Base on the punctuations we need to tokenize so we used that punctuations tokenize\n",
    "tokens"
   ]
  },
  {
   "cell_type": "markdown",
   "metadata": {},
   "source": [
    "### Frquency Distribution\n",
    "\n",
    "Counting your words in your texts"
   ]
  },
  {
   "cell_type": "code",
   "execution_count": 109,
   "metadata": {},
   "outputs": [
    {
     "name": "stdout",
     "output_type": "stream",
     "text": [
      "<FreqDist with 19 samples and 22 outcomes>\n"
     ]
    }
   ],
   "source": [
    "import nltk\n",
    "from nltk.tokenize import word_tokenize\n",
    "\n",
    "text = \"There is a need  of a person here. if he is willing to donate somehting it will be his kindness.\"\n",
    "frequence_dist = nltk.FreqDist(word_tokenize(text))\n",
    "print(frequence_dist)"
   ]
  },
  {
   "cell_type": "code",
   "execution_count": 113,
   "metadata": {},
   "outputs": [
    {
     "data": {
      "text/plain": [
       "dict_items([('There', 1), ('is', 2), ('a', 2), ('need', 1), ('of', 1), ('person', 1), ('here', 1), ('.', 2), ('if', 1), ('he', 1), ('willing', 1), ('to', 1), ('donate', 1), ('somehting', 1), ('it', 1), ('will', 1), ('be', 1), ('his', 1), ('kindness', 1)])"
      ]
     },
     "execution_count": 113,
     "metadata": {},
     "output_type": "execute_result"
    }
   ],
   "source": [
    "frequence_dist.items()"
   ]
  },
  {
   "cell_type": "code",
   "execution_count": 117,
   "metadata": {},
   "outputs": [
    {
     "data": {
      "image/png": "[encoded data removed]",
      "text/plain": [
       "<Figure size 432x288 with 1 Axes>"
      ]
     },
     "metadata": {
      "needs_background": "light"
     },
     "output_type": "display_data"
    }
   ],
   "source": [
    "# The word that is comming less time there is less chance that it will contribute in the model building...\n",
    "frequence_dist.plot(20)\n"
   ]
  }
 ],
 "metadata": {
  "kernelspec": {
   "display_name": "Python 3",
   "language": "python",
   "name": "python3"
  },
  "language_info": {
   "codemirror_mode": {
    "name": "ipython",
    "version": 3
   },
   "file_extension": ".py",
   "mimetype": "text/x-python",
   "name": "python",
   "nbconvert_exporter": "python",
   "pygments_lexer": "ipython3",
   "version": "3.7.2"
  }
 },
 "nbformat": 4,
 "nbformat_minor": 2
}
