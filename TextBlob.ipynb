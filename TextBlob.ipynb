{
 "cells": [
  {
   "cell_type": "markdown",
   "metadata": {},
   "source": [
    "## TextBlob"
   ]
  },
  {
   "cell_type": "markdown",
   "metadata": {},
   "source": [
    "### Features\n",
    "\n",
    "> Noun Phrase extraction\n",
    "\n",
    "> Part-of-speech tagging\n",
    "\n",
    "> Sentiment Analysis\n",
    "\n",
    "> Classification (Naive Bayes, Decision Tree)\n",
    "\n",
    "> Langugae translation and detection powered by Google Translate\n",
    "\n",
    "> Tokenization (splitting text into words)\n",
    "\n",
    "> Word and phrases frequencies\n",
    "\n",
    "> Parsing\n",
    "\n",
    "> n-grams \n",
    "\n",
    "> Word inflection(pluralization and singularization) and lemmitization \n",
    "\n",
    "> Spelling correction \n",
    "\n",
    "> Add new models or languages through extensions\n",
    "\n",
    "> Wordnet Integration"
   ]
  },
  {
   "cell_type": "markdown",
   "metadata": {},
   "source": [
    "## Installation\n",
    "\n",
    "1. pip install textblob\n",
    "2. python -m textblob.download_corpora\n"
   ]
  },
  {
   "cell_type": "markdown",
   "metadata": {},
   "source": [
    "### Create a TextBlob"
   ]
  },
  {
   "cell_type": "code",
   "execution_count": 2,
   "metadata": {},
   "outputs": [
    {
     "data": {
      "text/plain": [
       "TextBlob(\"Love the way you teach natural langugae processing...I am abdul rehman\")"
      ]
     },
     "execution_count": 2,
     "metadata": {},
     "output_type": "execute_result"
    }
   ],
   "source": [
    "from textblob import TextBlob\n",
    "\n",
    "wiki = TextBlob(\"Love the way you teach natural langugae processing...I am abdul rehman\")\n",
    "wiki"
   ]
  },
  {
   "cell_type": "markdown",
   "metadata": {},
   "source": [
    "### Parts-of-Speech Tagging\n",
    "\n",
    "Parts of speech can be accessed through the tags property"
   ]
  },
  {
   "cell_type": "code",
   "execution_count": 11,
   "metadata": {},
   "outputs": [
    {
     "data": {
      "text/plain": [
       "[('Love', 'VB'),\n",
       " ('the', 'DT'),\n",
       " ('way', 'NN'),\n",
       " ('you', 'PRP'),\n",
       " ('teach', 'VBP'),\n",
       " ('natural', 'JJ'),\n",
       " ('langugae', 'NN'),\n",
       " ('processing', 'NN'),\n",
       " ('I', 'PRP'),\n",
       " ('am', 'VBP'),\n",
       " ('abdul', 'JJ'),\n",
       " ('rehman', 'NN')]"
      ]
     },
     "execution_count": 11,
     "metadata": {},
     "output_type": "execute_result"
    }
   ],
   "source": [
    "wiki.tags"
   ]
  },
  {
   "cell_type": "markdown",
   "metadata": {},
   "source": [
    "### Noun Phrase Extraction\n",
    "\n",
    "Noun Phrases are accessed through noun_phrases property"
   ]
  },
  {
   "cell_type": "code",
   "execution_count": 12,
   "metadata": {},
   "outputs": [
    {
     "data": {
      "text/plain": [
       "WordList(['love', 'natural langugae processing ...', 'abdul rehman'])"
      ]
     },
     "execution_count": 12,
     "metadata": {},
     "output_type": "execute_result"
    }
   ],
   "source": [
    "#Extracting all sort of a noun\n",
    "wiki.noun_phrases"
   ]
  },
  {
   "cell_type": "markdown",
   "metadata": {},
   "source": [
    "### Sentiment Analysis\n",
    "\n",
    "The sentiment preporty returns a tuple that contains two attributes named as polarity and subjectivity. The poliarty score is a float with in range  [-1,0,1]. The subjectivity is floating point number [0.0,1.0]. Where 0.0 is related to very objective and 1.0 is very subjective.\n",
    "\n",
    "Polarity shows the sentiment if there is negative sentense then polrity value is in negative range, o if neutral and for positive sentiment value will be  in posiitve range."
   ]
  },
  {
   "cell_type": "code",
   "execution_count": 14,
   "metadata": {},
   "outputs": [
    {
     "data": {
      "text/plain": [
       "Sentiment(polarity=0.23750000000000004, subjectivity=0.6375)"
      ]
     },
     "execution_count": 14,
     "metadata": {},
     "output_type": "execute_result"
    }
   ],
   "source": [
    "test_sample = TextBlob(\"Text Blob is an amazing lib. I would prefer my other friends to use that one too...\")\n",
    "test_sample.sentiment"
   ]
  },
  {
   "cell_type": "code",
   "execution_count": 3,
   "metadata": {},
   "outputs": [
    {
     "data": {
      "text/plain": [
       "Sentiment(polarity=0.0, subjectivity=0.0)"
      ]
     },
     "execution_count": 3,
     "metadata": {},
     "output_type": "execute_result"
    }
   ],
   "source": [
    "test_sample = TextBlob(\"Hey are you?\")\n",
    "test_sample.sentiment"
   ]
  },
  {
   "cell_type": "code",
   "execution_count": 9,
   "metadata": {},
   "outputs": [
    {
     "data": {
      "text/plain": [
       "Sentiment(polarity=-0.35, subjectivity=0.6000000000000001)"
      ]
     },
     "execution_count": 9,
     "metadata": {},
     "output_type": "execute_result"
    }
   ],
   "source": [
    "test_sample = TextBlob(\"Ali is not a good boy\")\n",
    "test_sample.sentiment"
   ]
  },
  {
   "cell_type": "code",
   "execution_count": 10,
   "metadata": {},
   "outputs": [
    {
     "data": {
      "text/plain": [
       "(-0.35, 0.6000000000000001)"
      ]
     },
     "execution_count": 10,
     "metadata": {},
     "output_type": "execute_result"
    }
   ],
   "source": [
    "test_sample.sentiment.polarity,test_sample.sentiment.subjectivity"
   ]
  },
  {
   "cell_type": "markdown",
   "metadata": {},
   "source": [
    "### Tokenization\n",
    "\n",
    "> Splitting sentence into words\n",
    "\n",
    "> Splitting paragraphs into sentenses"
   ]
  },
  {
   "cell_type": "code",
   "execution_count": 17,
   "metadata": {},
   "outputs": [
    {
     "data": {
      "text/plain": [
       "WordList(['New', 'books', 'are', 'amazing', 'I', 'will', 'definitely', 'pick', 'up', 'one', 'and', 'will', 'read', 'it', 'precisely'])"
      ]
     },
     "execution_count": 17,
     "metadata": {},
     "output_type": "execute_result"
    }
   ],
   "source": [
    "word = TextBlob(\"New books are amazing. I will definitely pick up one and will read it precisely.\")\n",
    "\n",
    "word.words"
   ]
  },
  {
   "cell_type": "code",
   "execution_count": 18,
   "metadata": {},
   "outputs": [
    {
     "data": {
      "text/plain": [
       "[Sentence(\"New books are amazing.\"),\n",
       " Sentence(\"I will definitely pick up one and will read it precisely.\")]"
      ]
     },
     "execution_count": 18,
     "metadata": {},
     "output_type": "execute_result"
    }
   ],
   "source": [
    "word.sentences"
   ]
  },
  {
   "cell_type": "markdown",
   "metadata": {},
   "source": [
    "### Word Inflection and Lemmitization\n",
    "\n",
    "> Converting words to singular or plural using words inflection and even we can change the numbers to words using words inflection\n",
    "\n",
    "\n",
    "> Lemmitaization converts the data or words into their nearest possible word"
   ]
  },
  {
   "cell_type": "code",
   "execution_count": 21,
   "metadata": {},
   "outputs": [
    {
     "data": {
      "text/plain": [
       "WordList(['Use', '4', 'spaces', 'per', 'indent', 'Level'])"
      ]
     },
     "execution_count": 21,
     "metadata": {},
     "output_type": "execute_result"
    }
   ],
   "source": [
    "senetence = TextBlob(\"Use 4 spaces per indent Level\")\n",
    "\n",
    "senetence.words"
   ]
  },
  {
   "cell_type": "code",
   "execution_count": 25,
   "metadata": {},
   "outputs": [
    {
     "data": {
      "text/plain": [
       "('space', 'indents')"
      ]
     },
     "execution_count": 25,
     "metadata": {},
     "output_type": "execute_result"
    }
   ],
   "source": [
    "senetence.words[2].singularize(),senetence.words[4].pluralize()"
   ]
  },
  {
   "cell_type": "code",
   "execution_count": 27,
   "metadata": {},
   "outputs": [
    {
     "data": {
      "text/plain": [
       "'loin'"
      ]
     },
     "execution_count": 27,
     "metadata": {},
     "output_type": "execute_result"
    }
   ],
   "source": [
    "from textblob import Word\n",
    "\n",
    "\n",
    "#Lemmitization provides the nearest words to you, you can even set which pasrt of speech you want to lemmatize\n",
    "ans = Word('loins')\n",
    "ans.lemmatize()"
   ]
  },
  {
   "cell_type": "code",
   "execution_count": 31,
   "metadata": {},
   "outputs": [
    {
     "data": {
      "text/plain": [
       "'go'"
      ]
     },
     "execution_count": 31,
     "metadata": {},
     "output_type": "execute_result"
    }
   ],
   "source": [
    "ans = Word('went')\n",
    "ans.lemmatize('v')\n",
    "\n"
   ]
  },
  {
   "cell_type": "markdown",
   "metadata": {},
   "source": [
    "### WordNet Integration\n",
    "\n",
    "Wordnet is a lexical database that is dictionary for the English Langauge.\n",
    "\n",
    "Synset is the simple nltk interface that is desgin to look up words in Wordnet. Synset instances are the grouping of synonyms that express the same type of content. some words have only one synset and some have many."
   ]
  },
  {
   "cell_type": "code",
   "execution_count": 34,
   "metadata": {},
   "outputs": [
    {
     "data": {
      "text/plain": [
       "[Synset('goat.n.01'),\n",
       " Synset('butt.n.03'),\n",
       " Synset('capricorn.n.01'),\n",
       " Synset('capricorn.n.03')]"
      ]
     },
     "execution_count": 34,
     "metadata": {},
     "output_type": "execute_result"
    }
   ],
   "source": [
    "from textblob import Word \n",
    "from textblob.wordnet import VERB \n",
    "\n",
    "\n",
    "#It will geenrate the synonums to you, here n represents noun and digits represents score\n",
    "word = Word('goat')\n",
    "word.synsets"
   ]
  },
  {
   "cell_type": "code",
   "execution_count": 35,
   "metadata": {},
   "outputs": [
    {
     "data": {
      "text/plain": [
       "[Synset('sun.n.01'),\n",
       " Synset('sunlight.n.01'),\n",
       " Synset('sun.n.03'),\n",
       " Synset('sun.n.04'),\n",
       " Synset('sunday.n.01'),\n",
       " Synset('sun.v.01'),\n",
       " Synset('sun.v.02')]"
      ]
     },
     "execution_count": 35,
     "metadata": {},
     "output_type": "execute_result"
    }
   ],
   "source": [
    "#It will geenrate the synonums to you, here n represents noun and digits represents score\n",
    "word = Word('sun')\n",
    "word.synsets"
   ]
  },
  {
   "cell_type": "code",
   "execution_count": 37,
   "metadata": {},
   "outputs": [
    {
     "data": {
      "text/plain": [
       "[Synset('chop.v.05'),\n",
       " Synset('hack.v.02'),\n",
       " Synset('hack.v.03'),\n",
       " Synset('hack.v.04'),\n",
       " Synset('hack.v.05'),\n",
       " Synset('hack.v.06'),\n",
       " Synset('hack.v.07'),\n",
       " Synset('hack.v.08')]"
      ]
     },
     "execution_count": 37,
     "metadata": {},
     "output_type": "execute_result"
    }
   ],
   "source": [
    "word = Word('hack')\n",
    "word.get_synsets(pos = VERB)"
   ]
  },
  {
   "cell_type": "markdown",
   "metadata": {},
   "source": [
    "#### Checking Definitions of Some Words\n",
    "You can find the definition of any word using this wordnet lib "
   ]
  },
  {
   "cell_type": "code",
   "execution_count": 38,
   "metadata": {},
   "outputs": [
    {
     "data": {
      "text/plain": [
       "['the star that is the source of light and heat for the planets in the solar system',\n",
       " 'the rays of the sun',\n",
       " 'a person considered as a source of warmth or energy or glory etc',\n",
       " 'any star around which a planetary system revolves',\n",
       " 'first day of the week; observed as a day of rest and worship by most Christians',\n",
       " \"expose one's body to the sun\",\n",
       " 'expose to the rays of the sun or affect by exposure to the sun']"
      ]
     },
     "execution_count": 38,
     "metadata": {},
     "output_type": "execute_result"
    }
   ],
   "source": [
    "from textblob import Word\n",
    "Word('Sun').definitions"
   ]
  },
  {
   "cell_type": "code",
   "execution_count": 39,
   "metadata": {},
   "outputs": [
    {
     "data": {
      "text/plain": [
       "['a written work or composition that has been published (printed on pages bound together)',\n",
       " 'physical objects consisting of a number of pages bound together',\n",
       " 'a compilation of the known facts regarding something or someone',\n",
       " 'a written version of a play or other dramatic composition; used in preparing for a performance',\n",
       " 'a record in which commercial accounts are recorded',\n",
       " 'a collection of playing cards satisfying the rules of a card game',\n",
       " 'a collection of rules or prescribed standards on the basis of which decisions are made',\n",
       " 'the sacred writings of Islam revealed by God to the prophet Muhammad during his life at Mecca and Medina',\n",
       " 'the sacred writings of the Christian religions',\n",
       " 'a major division of a long written composition',\n",
       " 'a number of sheets (ticket or stamps etc.) bound together on one edge',\n",
       " 'engage for a performance',\n",
       " 'arrange for and reserve (something for someone else) in advance',\n",
       " 'record a charge in a police register',\n",
       " 'register in a hotel booker']"
      ]
     },
     "execution_count": 39,
     "metadata": {},
     "output_type": "execute_result"
    }
   ],
   "source": [
    "Word('Book').definitions"
   ]
  },
  {
   "cell_type": "markdown",
   "metadata": {},
   "source": [
    "### WordList\n",
    "\n",
    "Just similar to the list as in python wil additional methods"
   ]
  },
  {
   "cell_type": "code",
   "execution_count": 45,
   "metadata": {},
   "outputs": [
    {
     "data": {
      "text/plain": [
       "WordList(['animal', 'elephant', 'mouse', 'cat'])"
      ]
     },
     "execution_count": 45,
     "metadata": {},
     "output_type": "execute_result"
    }
   ],
   "source": [
    "from textblob import TextBlob\n",
    "animals  = TextBlob('animal,elephant,mouse,cat')\n",
    "animals.words"
   ]
  },
  {
   "cell_type": "code",
   "execution_count": 47,
   "metadata": {},
   "outputs": [
    {
     "data": {
      "text/plain": [
       "(WordList(['animals', 'elephants', 'mice', 'cats']),\n",
       " WordList(['animal', 'elephant', 'mouse', 'cat']))"
      ]
     },
     "execution_count": 47,
     "metadata": {},
     "output_type": "execute_result"
    }
   ],
   "source": [
    "animals.words.pluralize(),animals.words.singularize()"
   ]
  },
  {
   "cell_type": "markdown",
   "metadata": {},
   "source": [
    "### Spelling Correction\n",
    "\n",
    "for correction of words you can simply use the correct method to correct spelling of that words"
   ]
  },
  {
   "cell_type": "code",
   "execution_count": 52,
   "metadata": {},
   "outputs": [
    {
     "data": {
      "text/plain": [
       "TextBlob(\"can you say may name in loud format?\")"
      ]
     },
     "execution_count": 52,
     "metadata": {},
     "output_type": "execute_result"
    }
   ],
   "source": [
    "#Note as much good but year textblob had that functionality too.\n",
    "\n",
    "data = TextBlob(\"can you sayy mmy name in loud format?\")\n",
    "data.correct()"
   ]
  },
  {
   "cell_type": "code",
   "execution_count": 55,
   "metadata": {},
   "outputs": [
    {
     "data": {
      "text/plain": [
       "[('number', 0.9901315789473685), ('numb', 0.009868421052631578)]"
      ]
     },
     "execution_count": 55,
     "metadata": {},
     "output_type": "execute_result"
    }
   ],
   "source": [
    "from textblob import Word\n",
    "\n",
    "spell = Word(\"numbr\")\n",
    "spell.spellcheck()"
   ]
  },
  {
   "cell_type": "markdown",
   "metadata": {},
   "source": [
    "### Get Word & Noun Phrase Frequencey\n",
    "\n",
    "> using word_counts you can find the frequency \n",
    "\n",
    "> using word.count you can also find the frequency "
   ]
  },
  {
   "cell_type": "code",
   "execution_count": 56,
   "metadata": {},
   "outputs": [
    {
     "data": {
      "text/plain": [
       "defaultdict(int,\n",
       "            {'some': 1,\n",
       "             'words': 3,\n",
       "             'are': 2,\n",
       "             'not': 1,\n",
       "             'simply': 1,\n",
       "             'the': 1,\n",
       "             'these': 1,\n",
       "             'just': 1,\n",
       "             'like': 1,\n",
       "             'kind': 1,\n",
       "             'of': 1,\n",
       "             'expressions': 1,\n",
       "             'or': 1,\n",
       "             'gestures': 1})"
      ]
     },
     "execution_count": 56,
     "metadata": {},
     "output_type": "execute_result"
    }
   ],
   "source": [
    "words = TextBlob(\"some words are not simply the words. these words are just like kind of expressions or gestures\")\n",
    "words.word_counts"
   ]
  },
  {
   "cell_type": "code",
   "execution_count": 57,
   "metadata": {},
   "outputs": [
    {
     "data": {
      "text/plain": [
       "<bound method WordList.count of WordList(['some', 'words', 'are', 'not', 'simply', 'the', 'words', 'these', 'words', 'are', 'just', 'like', 'kind', 'of', 'expressions', 'or', 'gestures'])>"
      ]
     },
     "execution_count": 57,
     "metadata": {},
     "output_type": "execute_result"
    }
   ],
   "source": [
    "words.words.count"
   ]
  },
  {
   "cell_type": "code",
   "execution_count": 64,
   "metadata": {},
   "outputs": [
    {
     "data": {
      "text/plain": [
       "3"
      ]
     },
     "execution_count": 64,
     "metadata": {},
     "output_type": "execute_result"
    }
   ],
   "source": [
    "word = TextBlob(\"some words are not simply the words. these words are just like kind of expressions or gestures\")\n",
    "\n",
    "word.words.count('words',case_sensitive=False)"
   ]
  },
  {
   "cell_type": "code",
   "execution_count": 66,
   "metadata": {},
   "outputs": [
    {
     "data": {
      "text/plain": [
       "0"
      ]
     },
     "execution_count": 66,
     "metadata": {},
     "output_type": "execute_result"
    }
   ],
   "source": [
    "\n",
    "word.noun_phrases.count('gestures',case_sensitive=False)"
   ]
  },
  {
   "cell_type": "markdown",
   "metadata": {},
   "source": [
    "### Transalation & Langugae Detection\n",
    "\n",
    "TextBlob can be used to translate between the languages"
   ]
  },
  {
   "cell_type": "code",
   "execution_count": 90,
   "metadata": {},
   "outputs": [
    {
     "data": {
      "text/plain": [
       "TextBlob(\"کچھ بھی نہیں سے بہتر ہے\")"
      ]
     },
     "execution_count": 90,
     "metadata": {},
     "output_type": "execute_result"
    }
   ],
   "source": [
    "from textblob import TextBlob\n",
    "\n",
    "word = TextBlob(u'Somehting is better than nothing')\n",
    "word.translate(from_lang='en', to='ur')"
   ]
  },
  {
   "cell_type": "code",
   "execution_count": 95,
   "metadata": {},
   "outputs": [
    {
     "data": {
      "text/plain": [
       "TextBlob(\"آؤ ایک مزہ کریں۔ خاموش رہو میں پڑھ رہا ہوں۔ میں ہر روز کلاس لیتا تھا\")"
      ]
     },
     "execution_count": 95,
     "metadata": {},
     "output_type": "execute_result"
    }
   ],
   "source": [
    "word = TextBlob(u'Come Let have a fun. keep quiet I am studying. I used to take class everyday')\n",
    "word.translate(from_lang='en', to='ur')"
   ]
  },
  {
   "cell_type": "code",
   "execution_count": 96,
   "metadata": {},
   "outputs": [
    {
     "data": {
      "text/plain": [
       "TextBlob(\"Let's have a fun. Keep quiet I'm reading. I used to take class every day\")"
      ]
     },
     "execution_count": 96,
     "metadata": {},
     "output_type": "execute_result"
    }
   ],
   "source": [
    "\n",
    "word = TextBlob(u\"آؤ ایک مزہ کریں۔ خاموش رہو میں پڑھ رہا ہوں۔ میں ہر روز کلاس لیتا تھا\")\n",
    "word.translate(from_lang='ur', to='en')\n"
   ]
  },
  {
   "cell_type": "markdown",
   "metadata": {},
   "source": [
    "### TextBlob Like python Strings\n"
   ]
  },
  {
   "cell_type": "code",
   "execution_count": 107,
   "metadata": {},
   "outputs": [
    {
     "data": {
      "text/plain": [
       "False"
      ]
     },
     "execution_count": 107,
     "metadata": {},
     "output_type": "execute_result"
    }
   ],
   "source": [
    "from textblob import TextBlob\n",
    "\n",
    "text = TextBlob(\"Some people are walking aroung the park\")\n",
    "\n",
    "text.upper()\n",
    "text.find('are') #returns the index os that word\n",
    "\n",
    "word1 = TextBlob(\"word1\")\n",
    "word2 = TextBlob(\"word2\")\n",
    "word1>word2"
   ]
  },
  {
   "cell_type": "markdown",
   "metadata": {},
   "source": [
    "### n-grams\n",
    "\n",
    "It is way to generate the dataset like creating the combinations from the sentense, before model training we make n grams and then pass it to our model for training. We make n gram combinations when we need our model to do more focus on the words that are repititive e.g chatbots"
   ]
  },
  {
   "cell_type": "code",
   "execution_count": 110,
   "metadata": {},
   "outputs": [
    {
     "data": {
      "text/plain": [
       "[WordList(['Somehting', 'is', 'better']),\n",
       " WordList(['is', 'better', 'than']),\n",
       " WordList(['better', 'than', 'Nothing'])]"
      ]
     },
     "execution_count": 110,
     "metadata": {},
     "output_type": "execute_result"
    }
   ],
   "source": [
    "blob = TextBlob(\"Somehting is better than Nothing\")\n",
    "blob.ngrams(n=3) #Making three combinations sequantially depedning on n"
   ]
  },
  {
   "cell_type": "code",
   "execution_count": 112,
   "metadata": {},
   "outputs": [
    {
     "data": {
      "text/plain": [
       "[WordList(['Somehting', 'is']),\n",
       " WordList(['is', 'better']),\n",
       " WordList(['better', 'than']),\n",
       " WordList(['than', 'Nothing'])]"
      ]
     },
     "execution_count": 112,
     "metadata": {},
     "output_type": "execute_result"
    }
   ],
   "source": [
    "blob = TextBlob(\"Somehting is better than Nothing\")\n",
    "blob.ngrams(n=2) #Making three combinations sequantially depedning on n"
   ]
  },
  {
   "cell_type": "markdown",
   "metadata": {},
   "source": [
    "### Text Classification System"
   ]
  },
  {
   "cell_type": "code",
   "execution_count": 126,
   "metadata": {},
   "outputs": [],
   "source": [
    "train = [\n",
    "    ('I Love this burger','pos'),\n",
    "    ('This is an amazing place','pos'),\n",
    "    ('I can smell the aroma of good food','pos'),\n",
    "    ('This is my best possible work','pos'),\n",
    "    ('What an awesome park','pos'),\n",
    "    ('I donot like you','neg'),\n",
    "    ('I am tired from you','neg'),\n",
    "    ('I cannot pull his legs','neg'),\n",
    "    ('he is my dangerous enemy!','neg'),\n",
    "    ('my friend is horrible','neg'),    \n",
    "]\n",
    "\n",
    "\n",
    "test = [\n",
    "    ('The burger is looking amazing','pos'),\n",
    "    ('I donot like the way you react to people','neg'),\n",
    "    ('I am not feeling fresh today','neg'),\n",
    "    ('Your looks was amazing','pos'),\n",
    "    ('He is afraid of you','neg'),\n",
    "    ('I am having fun doing this','neg'),\n",
    "  \n",
    "]"
   ]
  },
  {
   "cell_type": "code",
   "execution_count": 127,
   "metadata": {},
   "outputs": [],
   "source": [
    "from textblob.classifiers import NaiveBayesClassifier\n",
    "cl = NaiveBayesClassifier(train)"
   ]
  },
  {
   "cell_type": "code",
   "execution_count": 130,
   "metadata": {},
   "outputs": [
    {
     "data": {
      "text/plain": [
       "'neg'"
      ]
     },
     "execution_count": 130,
     "metadata": {},
     "output_type": "execute_result"
    }
   ],
   "source": [
    "cl.classify(\"you are not good boy\")\n"
   ]
  },
  {
   "cell_type": "code",
   "execution_count": 140,
   "metadata": {},
   "outputs": [
    {
     "data": {
      "text/plain": [
       "'neg'"
      ]
     },
     "execution_count": 140,
     "metadata": {},
     "output_type": "execute_result"
    }
   ],
   "source": [
    "prob_dist = cl.prob_classify(\"you are not good boy\")\n",
    "prob_dist.max()"
   ]
  },
  {
   "cell_type": "code",
   "execution_count": 143,
   "metadata": {},
   "outputs": [
    {
     "data": {
      "text/plain": [
       "0.9260564740864501"
      ]
     },
     "execution_count": 143,
     "metadata": {},
     "output_type": "execute_result"
    }
   ],
   "source": [
    "#Probablities of negative and positive reviews\n",
    "prob_dist.prob('neg')"
   ]
  },
  {
   "cell_type": "markdown",
   "metadata": {},
   "source": [
    "\n"
   ]
  },
  {
   "cell_type": "code",
   "execution_count": 144,
   "metadata": {},
   "outputs": [
    {
     "data": {
      "text/plain": [
       "1.0"
      ]
     },
     "execution_count": 144,
     "metadata": {},
     "output_type": "execute_result"
    }
   ],
   "source": [
    "#Evaluating the classifiers\n",
    "\n",
    "cl.accuracy(test)"
   ]
  },
  {
   "cell_type": "code",
   "execution_count": 145,
   "metadata": {},
   "outputs": [
    {
     "name": "stdout",
     "output_type": "stream",
     "text": [
      "Most Informative Features\n",
      "            contains(my) = True              neg : pos    =      1.7 : 1.0\n",
      "            contains(an) = False             neg : pos    =      1.6 : 1.0\n",
      "          contains(This) = False             neg : pos    =      1.6 : 1.0\n",
      "           contains(you) = False             pos : neg    =      1.6 : 1.0\n",
      "             contains(I) = True              neg : pos    =      1.4 : 1.0\n"
     ]
    }
   ],
   "source": [
    "cl.show_informative_features(5)"
   ]
  },
  {
   "cell_type": "markdown",
   "metadata": {},
   "source": [
    "### Updaing the Algorithm \n",
    "\n",
    "you can update the algorithm by adding new data "
   ]
  },
  {
   "cell_type": "code",
   "execution_count": 146,
   "metadata": {},
   "outputs": [
    {
     "data": {
      "text/plain": [
       "True"
      ]
     },
     "execution_count": 146,
     "metadata": {},
     "output_type": "execute_result"
    }
   ],
   "source": [
    "#Kind of transfer learning \n",
    "new_data = [\n",
    "    \n",
    "    ('he is my best friend','pos'),\n",
    "    ('I am very happy today','pos'),\n",
    "    ('you are my best friend','pos'),\n",
    "    ('he didnot tell a lie','pos')\n",
    "]\n",
    "cl.update(new_data)"
   ]
  },
  {
   "cell_type": "code",
   "execution_count": 147,
   "metadata": {},
   "outputs": [
    {
     "data": {
      "text/plain": [
       "0.6666666666666666"
      ]
     },
     "execution_count": 147,
     "metadata": {},
     "output_type": "execute_result"
    }
   ],
   "source": [
    "cl.accuracy(test)"
   ]
  },
  {
   "cell_type": "code",
   "execution_count": 152,
   "metadata": {},
   "outputs": [
    {
     "data": {
      "text/plain": [
       "'neg'"
      ]
     },
     "execution_count": 152,
     "metadata": {},
     "output_type": "execute_result"
    }
   ],
   "source": [
    "cl.classify(\"I dondot like you\")"
   ]
  },
  {
   "cell_type": "markdown",
   "metadata": {},
   "source": [
    "### For More information\n",
    "\n",
    "> [link] https://textblob.readthedocs.io/en/dev/classifiers.html\n"
   ]
  },
  {
   "cell_type": "code",
   "execution_count": null,
   "metadata": {},
   "outputs": [],
   "source": []
  }
 ],
 "metadata": {
  "kernelspec": {
   "display_name": "Python 3",
   "language": "python",
   "name": "python3"
  },
  "language_info": {
   "codemirror_mode": {
    "name": "ipython",
    "version": 3
   },
   "file_extension": ".py",
   "mimetype": "text/x-python",
   "name": "python",
   "nbconvert_exporter": "python",
   "pygments_lexer": "ipython3",
   "version": "3.7.2"
  }
 },
 "nbformat": 4,
 "nbformat_minor": 2
}
